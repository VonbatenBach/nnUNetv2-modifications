{
 "cells": [
  {
   "cell_type": "code",
   "execution_count": 26,
   "metadata": {},
   "outputs": [],
   "source": [
    "import numpy as np\n",
    "import os\n",
    "import SimpleITK as sitk"
   ]
  },
  {
   "cell_type": "code",
   "execution_count": 23,
   "metadata": {},
   "outputs": [],
   "source": [
    "path = \"/media/immersive/KINGSTON/nnUnetData-and-Models/dataset/nnUNet_trained_models/Dataset109_BreastTissue/nnUNetTrainer__nnUNetPlans__2d/fold_all/validation/\"\n",
    "file_path = os.path.join(path, \"0002.npz\")\n",
    "pickle_path = os.path.join(path, \"0002.pkl\")\n",
    "data = np.load(file_path)\n",
    "properties_dict = np.load(pickle_path, allow_pickle=True)"
   ]
  },
  {
   "cell_type": "code",
   "execution_count": 24,
   "metadata": {},
   "outputs": [
    {
     "data": {
      "text/plain": [
       "(142, 512, 512)"
      ]
     },
     "execution_count": 24,
     "metadata": {},
     "output_type": "execute_result"
    }
   ],
   "source": [
    "probabilites = data[\"probabilities\"]\n",
    "probabilites[1].shape"
   ]
  },
  {
   "cell_type": "code",
   "execution_count": 28,
   "metadata": {},
   "outputs": [],
   "source": [
    "itk_image = sitk.GetImageFromArray(probabilites[1].astype(np.float32))\n",
    "itk_image.SetSpacing(properties_dict['sitk_stuff']['spacing'])\n",
    "itk_image.SetOrigin(properties_dict['sitk_stuff']['origin'])\n",
    "itk_image.SetDirection(properties_dict['sitk_stuff']['direction'])\n",
    "\n",
    "sitk.WriteImage(itk_image, os.path.join(path, \"0002_prob_map.nrrd\"))"
   ]
  },
  {
   "cell_type": "code",
   "execution_count": null,
   "metadata": {},
   "outputs": [],
   "source": []
  }
 ],
 "metadata": {
  "kernelspec": {
   "display_name": "Python 3",
   "language": "python",
   "name": "python3"
  },
  "language_info": {
   "codemirror_mode": {
    "name": "ipython",
    "version": 3
   },
   "file_extension": ".py",
   "mimetype": "text/x-python",
   "name": "python",
   "nbconvert_exporter": "python",
   "pygments_lexer": "ipython3",
   "version": "3.10.12"
  },
  "orig_nbformat": 4
 },
 "nbformat": 4,
 "nbformat_minor": 2
}
